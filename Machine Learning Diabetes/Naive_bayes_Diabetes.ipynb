{
  "nbformat": 4,
  "nbformat_minor": 0,
  "metadata": {
    "colab": {
      "name": "Naive_bayes_Diabetes.ipynb",
      "provenance": [],
      "collapsed_sections": []
    },
    "kernelspec": {
      "name": "python3",
      "display_name": "Python 3"
    },
    "language_info": {
      "name": "python"
    }
  },
  "cells": [
    {
      "cell_type": "markdown",
      "metadata": {
        "id": "mX3e-2TdS_I4"
      },
      "source": [
        "# **Machine Learning for diabetes classification: Naive bayes model**\n",
        "This project is a machine learning model to classify diabetes.\n",
        "The database used is relatively small (only 390 people) and unbalanced (about 90% are not diabetic). So the challenge was to correctly adjust the database in order to mitigate these problems.\n",
        "\n",
        "The diabetes database: https://www.kaggle.com/houcembenmansour/predict-diabetes-based-on-diagnostic-measures"
      ]
    },
    {
      "cell_type": "markdown",
      "metadata": {
        "id": "QsxdYUqVUE3G"
      },
      "source": [
        "\n",
        "\n",
        "---\n",
        "\n",
        "\n",
        "# **Exploring the Data**\n",
        "All libraries are imported, the database is loaded and analysed."
      ]
    },
    {
      "cell_type": "code",
      "metadata": {
        "id": "MoLXDhmemWBD"
      },
      "source": [
        "#Importing libraries\n",
        "import pandas as pd\n",
        "import seaborn as sns\n",
        "import matplotlib.pyplot as plt\n",
        "import numpy as np\n",
        "from math import sqrt\n",
        "from sklearn.model_selection import train_test_split\n",
        "from sklearn.naive_bayes import GaussianNB\n",
        "from sklearn.preprocessing import LabelEncoder\n",
        "from sklearn.metrics import accuracy_score\n",
        "from sklearn.decomposition import PCA\n",
        "from sklearn.preprocessing import StandardScaler\n",
        "from yellowbrick.classifier import ConfusionMatrix\n",
        "from imblearn.combine import SMOTETomek"
      ],
      "execution_count": null,
      "outputs": []
    },
    {
      "cell_type": "code",
      "metadata": {
        "colab": {
          "resources": {
            "http://localhost:8080/nbextensions/google.colab/files.js": {
              "data": "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",
              "ok": true,
              "headers": [
                [
                  "content-type",
                  "application/javascript"
                ]
              ],
              "status": 200,
              "status_text": ""
            }
          },
          "base_uri": "https://localhost:8080/",
          "height": 91
        },
        "id": "6-DyJ538m10A",
        "outputId": "81255e7e-7609-4a21-b3e3-2105ac786616"
      },
      "source": [
        "#Load file from local machine\n",
        "from google.colab import files\n",
        "uploaded = files.upload()\n",
        "for fn in uploaded.keys():\n",
        "  print('User uploaded file \"{name}\" with length {length} bytes'.format(\n",
        "      name=fn, length=len(uploaded[fn])))"
      ],
      "execution_count": 2,
      "outputs": [
        {
          "output_type": "display_data",
          "data": {
            "text/html": [
              "\n",
              "     <input type=\"file\" id=\"files-acc283c6-5aea-489c-95ef-9a0ffe689bf5\" name=\"files[]\" multiple disabled\n",
              "        style=\"border:none\" />\n",
              "     <output id=\"result-acc283c6-5aea-489c-95ef-9a0ffe689bf5\">\n",
              "      Upload widget is only available when the cell has been executed in the\n",
              "      current browser session. Please rerun this cell to enable.\n",
              "      </output>\n",
              "      <script src=\"/nbextensions/google.colab/files.js\"></script> "
            ],
            "text/plain": [
              "<IPython.core.display.HTML object>"
            ]
          },
          "metadata": {}
        },
        {
          "output_type": "stream",
          "name": "stdout",
          "text": [
            "Saving diabetes.csv to diabetes.csv\n",
            "User uploaded file \"diabetes.csv\" with length 29372 bytes\n"
          ]
        }
      ]
    },
    {
      "cell_type": "code",
      "metadata": {
        "colab": {
          "base_uri": "https://localhost:8080/",
          "height": 237
        },
        "id": "QJ2Ah-5NnARm",
        "outputId": "690c6c34-6838-4b25-b38e-98d2d8304c75"
      },
      "source": [
        "#Transforming to a dataframe df\n",
        "df = pd.read_csv('diabetes.csv', index_col=0)\n",
        "#Substitute the ',' with '.'\n",
        "df=(df.replace(',',\".\", regex = True))\n",
        "df.head()"
      ],
      "execution_count": 3,
      "outputs": [
        {
          "output_type": "execute_result",
          "data": {
            "text/html": [
              "<div>\n",
              "<style scoped>\n",
              "    .dataframe tbody tr th:only-of-type {\n",
              "        vertical-align: middle;\n",
              "    }\n",
              "\n",
              "    .dataframe tbody tr th {\n",
              "        vertical-align: top;\n",
              "    }\n",
              "\n",
              "    .dataframe thead th {\n",
              "        text-align: right;\n",
              "    }\n",
              "</style>\n",
              "<table border=\"1\" class=\"dataframe\">\n",
              "  <thead>\n",
              "    <tr style=\"text-align: right;\">\n",
              "      <th></th>\n",
              "      <th>cholesterol</th>\n",
              "      <th>glucose</th>\n",
              "      <th>hdl_chol</th>\n",
              "      <th>chol_hdl_ratio</th>\n",
              "      <th>age</th>\n",
              "      <th>gender</th>\n",
              "      <th>height</th>\n",
              "      <th>weight</th>\n",
              "      <th>bmi</th>\n",
              "      <th>systolic_bp</th>\n",
              "      <th>diastolic_bp</th>\n",
              "      <th>waist</th>\n",
              "      <th>hip</th>\n",
              "      <th>waist_hip_ratio</th>\n",
              "      <th>diabetes</th>\n",
              "    </tr>\n",
              "    <tr>\n",
              "      <th>patient_number</th>\n",
              "      <th></th>\n",
              "      <th></th>\n",
              "      <th></th>\n",
              "      <th></th>\n",
              "      <th></th>\n",
              "      <th></th>\n",
              "      <th></th>\n",
              "      <th></th>\n",
              "      <th></th>\n",
              "      <th></th>\n",
              "      <th></th>\n",
              "      <th></th>\n",
              "      <th></th>\n",
              "      <th></th>\n",
              "      <th></th>\n",
              "    </tr>\n",
              "  </thead>\n",
              "  <tbody>\n",
              "    <tr>\n",
              "      <th>1</th>\n",
              "      <td>193</td>\n",
              "      <td>77</td>\n",
              "      <td>49</td>\n",
              "      <td>3.9</td>\n",
              "      <td>19</td>\n",
              "      <td>female</td>\n",
              "      <td>61</td>\n",
              "      <td>119</td>\n",
              "      <td>22.5</td>\n",
              "      <td>118</td>\n",
              "      <td>70</td>\n",
              "      <td>32</td>\n",
              "      <td>38</td>\n",
              "      <td>0.84</td>\n",
              "      <td>No diabetes</td>\n",
              "    </tr>\n",
              "    <tr>\n",
              "      <th>2</th>\n",
              "      <td>146</td>\n",
              "      <td>79</td>\n",
              "      <td>41</td>\n",
              "      <td>3.6</td>\n",
              "      <td>19</td>\n",
              "      <td>female</td>\n",
              "      <td>60</td>\n",
              "      <td>135</td>\n",
              "      <td>26.4</td>\n",
              "      <td>108</td>\n",
              "      <td>58</td>\n",
              "      <td>33</td>\n",
              "      <td>40</td>\n",
              "      <td>0.83</td>\n",
              "      <td>No diabetes</td>\n",
              "    </tr>\n",
              "    <tr>\n",
              "      <th>3</th>\n",
              "      <td>217</td>\n",
              "      <td>75</td>\n",
              "      <td>54</td>\n",
              "      <td>4</td>\n",
              "      <td>20</td>\n",
              "      <td>female</td>\n",
              "      <td>67</td>\n",
              "      <td>187</td>\n",
              "      <td>29.3</td>\n",
              "      <td>110</td>\n",
              "      <td>72</td>\n",
              "      <td>40</td>\n",
              "      <td>45</td>\n",
              "      <td>0.89</td>\n",
              "      <td>No diabetes</td>\n",
              "    </tr>\n",
              "    <tr>\n",
              "      <th>4</th>\n",
              "      <td>226</td>\n",
              "      <td>97</td>\n",
              "      <td>70</td>\n",
              "      <td>3.2</td>\n",
              "      <td>20</td>\n",
              "      <td>female</td>\n",
              "      <td>64</td>\n",
              "      <td>114</td>\n",
              "      <td>19.6</td>\n",
              "      <td>122</td>\n",
              "      <td>64</td>\n",
              "      <td>31</td>\n",
              "      <td>39</td>\n",
              "      <td>0.79</td>\n",
              "      <td>No diabetes</td>\n",
              "    </tr>\n",
              "    <tr>\n",
              "      <th>5</th>\n",
              "      <td>164</td>\n",
              "      <td>91</td>\n",
              "      <td>67</td>\n",
              "      <td>2.4</td>\n",
              "      <td>20</td>\n",
              "      <td>female</td>\n",
              "      <td>70</td>\n",
              "      <td>141</td>\n",
              "      <td>20.2</td>\n",
              "      <td>122</td>\n",
              "      <td>86</td>\n",
              "      <td>32</td>\n",
              "      <td>39</td>\n",
              "      <td>0.82</td>\n",
              "      <td>No diabetes</td>\n",
              "    </tr>\n",
              "  </tbody>\n",
              "</table>\n",
              "</div>"
            ],
            "text/plain": [
              "                cholesterol  glucose  ...  waist_hip_ratio     diabetes\n",
              "patient_number                        ...                              \n",
              "1                       193       77  ...             0.84  No diabetes\n",
              "2                       146       79  ...             0.83  No diabetes\n",
              "3                       217       75  ...             0.89  No diabetes\n",
              "4                       226       97  ...             0.79  No diabetes\n",
              "5                       164       91  ...             0.82  No diabetes\n",
              "\n",
              "[5 rows x 15 columns]"
            ]
          },
          "metadata": {},
          "execution_count": 3
        }
      ]
    },
    {
      "cell_type": "code",
      "metadata": {
        "colab": {
          "base_uri": "https://localhost:8080/"
        },
        "id": "mCTBwwm0nN1p",
        "outputId": "cbe4508d-d8a2-4f37-ea8e-0c194113076b"
      },
      "source": [
        "#Checking for empty values\n",
        "df.isna().sum()"
      ],
      "execution_count": 4,
      "outputs": [
        {
          "output_type": "execute_result",
          "data": {
            "text/plain": [
              "cholesterol        0\n",
              "glucose            0\n",
              "hdl_chol           0\n",
              "chol_hdl_ratio     0\n",
              "age                0\n",
              "gender             0\n",
              "height             0\n",
              "weight             0\n",
              "bmi                0\n",
              "systolic_bp        0\n",
              "diastolic_bp       0\n",
              "waist              0\n",
              "hip                0\n",
              "waist_hip_ratio    0\n",
              "diabetes           0\n",
              "dtype: int64"
            ]
          },
          "metadata": {},
          "execution_count": 4
        }
      ]
    },
    {
      "cell_type": "markdown",
      "metadata": {
        "id": "Lvih1xmznUEy"
      },
      "source": [
        "No empty values found."
      ]
    },
    {
      "cell_type": "code",
      "metadata": {
        "colab": {
          "base_uri": "https://localhost:8080/",
          "height": 455
        },
        "id": "Bl7lBRm8lt4N",
        "outputId": "a4886a22-40d0-4066-d854-475bc4175b64"
      },
      "source": [
        "df"
      ],
      "execution_count": 5,
      "outputs": [
        {
          "output_type": "execute_result",
          "data": {
            "text/html": [
              "<div>\n",
              "<style scoped>\n",
              "    .dataframe tbody tr th:only-of-type {\n",
              "        vertical-align: middle;\n",
              "    }\n",
              "\n",
              "    .dataframe tbody tr th {\n",
              "        vertical-align: top;\n",
              "    }\n",
              "\n",
              "    .dataframe thead th {\n",
              "        text-align: right;\n",
              "    }\n",
              "</style>\n",
              "<table border=\"1\" class=\"dataframe\">\n",
              "  <thead>\n",
              "    <tr style=\"text-align: right;\">\n",
              "      <th></th>\n",
              "      <th>cholesterol</th>\n",
              "      <th>glucose</th>\n",
              "      <th>hdl_chol</th>\n",
              "      <th>chol_hdl_ratio</th>\n",
              "      <th>age</th>\n",
              "      <th>gender</th>\n",
              "      <th>height</th>\n",
              "      <th>weight</th>\n",
              "      <th>bmi</th>\n",
              "      <th>systolic_bp</th>\n",
              "      <th>diastolic_bp</th>\n",
              "      <th>waist</th>\n",
              "      <th>hip</th>\n",
              "      <th>waist_hip_ratio</th>\n",
              "      <th>diabetes</th>\n",
              "    </tr>\n",
              "    <tr>\n",
              "      <th>patient_number</th>\n",
              "      <th></th>\n",
              "      <th></th>\n",
              "      <th></th>\n",
              "      <th></th>\n",
              "      <th></th>\n",
              "      <th></th>\n",
              "      <th></th>\n",
              "      <th></th>\n",
              "      <th></th>\n",
              "      <th></th>\n",
              "      <th></th>\n",
              "      <th></th>\n",
              "      <th></th>\n",
              "      <th></th>\n",
              "      <th></th>\n",
              "    </tr>\n",
              "  </thead>\n",
              "  <tbody>\n",
              "    <tr>\n",
              "      <th>1</th>\n",
              "      <td>193</td>\n",
              "      <td>77</td>\n",
              "      <td>49</td>\n",
              "      <td>3.9</td>\n",
              "      <td>19</td>\n",
              "      <td>female</td>\n",
              "      <td>61</td>\n",
              "      <td>119</td>\n",
              "      <td>22.5</td>\n",
              "      <td>118</td>\n",
              "      <td>70</td>\n",
              "      <td>32</td>\n",
              "      <td>38</td>\n",
              "      <td>0.84</td>\n",
              "      <td>No diabetes</td>\n",
              "    </tr>\n",
              "    <tr>\n",
              "      <th>2</th>\n",
              "      <td>146</td>\n",
              "      <td>79</td>\n",
              "      <td>41</td>\n",
              "      <td>3.6</td>\n",
              "      <td>19</td>\n",
              "      <td>female</td>\n",
              "      <td>60</td>\n",
              "      <td>135</td>\n",
              "      <td>26.4</td>\n",
              "      <td>108</td>\n",
              "      <td>58</td>\n",
              "      <td>33</td>\n",
              "      <td>40</td>\n",
              "      <td>0.83</td>\n",
              "      <td>No diabetes</td>\n",
              "    </tr>\n",
              "    <tr>\n",
              "      <th>3</th>\n",
              "      <td>217</td>\n",
              "      <td>75</td>\n",
              "      <td>54</td>\n",
              "      <td>4</td>\n",
              "      <td>20</td>\n",
              "      <td>female</td>\n",
              "      <td>67</td>\n",
              "      <td>187</td>\n",
              "      <td>29.3</td>\n",
              "      <td>110</td>\n",
              "      <td>72</td>\n",
              "      <td>40</td>\n",
              "      <td>45</td>\n",
              "      <td>0.89</td>\n",
              "      <td>No diabetes</td>\n",
              "    </tr>\n",
              "    <tr>\n",
              "      <th>4</th>\n",
              "      <td>226</td>\n",
              "      <td>97</td>\n",
              "      <td>70</td>\n",
              "      <td>3.2</td>\n",
              "      <td>20</td>\n",
              "      <td>female</td>\n",
              "      <td>64</td>\n",
              "      <td>114</td>\n",
              "      <td>19.6</td>\n",
              "      <td>122</td>\n",
              "      <td>64</td>\n",
              "      <td>31</td>\n",
              "      <td>39</td>\n",
              "      <td>0.79</td>\n",
              "      <td>No diabetes</td>\n",
              "    </tr>\n",
              "    <tr>\n",
              "      <th>5</th>\n",
              "      <td>164</td>\n",
              "      <td>91</td>\n",
              "      <td>67</td>\n",
              "      <td>2.4</td>\n",
              "      <td>20</td>\n",
              "      <td>female</td>\n",
              "      <td>70</td>\n",
              "      <td>141</td>\n",
              "      <td>20.2</td>\n",
              "      <td>122</td>\n",
              "      <td>86</td>\n",
              "      <td>32</td>\n",
              "      <td>39</td>\n",
              "      <td>0.82</td>\n",
              "      <td>No diabetes</td>\n",
              "    </tr>\n",
              "    <tr>\n",
              "      <th>...</th>\n",
              "      <td>...</td>\n",
              "      <td>...</td>\n",
              "      <td>...</td>\n",
              "      <td>...</td>\n",
              "      <td>...</td>\n",
              "      <td>...</td>\n",
              "      <td>...</td>\n",
              "      <td>...</td>\n",
              "      <td>...</td>\n",
              "      <td>...</td>\n",
              "      <td>...</td>\n",
              "      <td>...</td>\n",
              "      <td>...</td>\n",
              "      <td>...</td>\n",
              "      <td>...</td>\n",
              "    </tr>\n",
              "    <tr>\n",
              "      <th>386</th>\n",
              "      <td>227</td>\n",
              "      <td>105</td>\n",
              "      <td>44</td>\n",
              "      <td>5.2</td>\n",
              "      <td>83</td>\n",
              "      <td>female</td>\n",
              "      <td>59</td>\n",
              "      <td>125</td>\n",
              "      <td>25.2</td>\n",
              "      <td>150</td>\n",
              "      <td>90</td>\n",
              "      <td>35</td>\n",
              "      <td>40</td>\n",
              "      <td>0.88</td>\n",
              "      <td>No diabetes</td>\n",
              "    </tr>\n",
              "    <tr>\n",
              "      <th>387</th>\n",
              "      <td>226</td>\n",
              "      <td>279</td>\n",
              "      <td>52</td>\n",
              "      <td>4.3</td>\n",
              "      <td>84</td>\n",
              "      <td>female</td>\n",
              "      <td>60</td>\n",
              "      <td>192</td>\n",
              "      <td>37.5</td>\n",
              "      <td>144</td>\n",
              "      <td>88</td>\n",
              "      <td>41</td>\n",
              "      <td>48</td>\n",
              "      <td>0.85</td>\n",
              "      <td>Diabetes</td>\n",
              "    </tr>\n",
              "    <tr>\n",
              "      <th>388</th>\n",
              "      <td>301</td>\n",
              "      <td>90</td>\n",
              "      <td>118</td>\n",
              "      <td>2.6</td>\n",
              "      <td>89</td>\n",
              "      <td>female</td>\n",
              "      <td>61</td>\n",
              "      <td>115</td>\n",
              "      <td>21.7</td>\n",
              "      <td>218</td>\n",
              "      <td>90</td>\n",
              "      <td>31</td>\n",
              "      <td>41</td>\n",
              "      <td>0.76</td>\n",
              "      <td>No diabetes</td>\n",
              "    </tr>\n",
              "    <tr>\n",
              "      <th>389</th>\n",
              "      <td>232</td>\n",
              "      <td>184</td>\n",
              "      <td>114</td>\n",
              "      <td>2</td>\n",
              "      <td>91</td>\n",
              "      <td>female</td>\n",
              "      <td>61</td>\n",
              "      <td>127</td>\n",
              "      <td>24</td>\n",
              "      <td>170</td>\n",
              "      <td>82</td>\n",
              "      <td>35</td>\n",
              "      <td>38</td>\n",
              "      <td>0.92</td>\n",
              "      <td>Diabetes</td>\n",
              "    </tr>\n",
              "    <tr>\n",
              "      <th>390</th>\n",
              "      <td>165</td>\n",
              "      <td>94</td>\n",
              "      <td>69</td>\n",
              "      <td>2.4</td>\n",
              "      <td>92</td>\n",
              "      <td>female</td>\n",
              "      <td>62</td>\n",
              "      <td>217</td>\n",
              "      <td>39.7</td>\n",
              "      <td>160</td>\n",
              "      <td>82</td>\n",
              "      <td>51</td>\n",
              "      <td>51</td>\n",
              "      <td>1</td>\n",
              "      <td>No diabetes</td>\n",
              "    </tr>\n",
              "  </tbody>\n",
              "</table>\n",
              "<p>390 rows × 15 columns</p>\n",
              "</div>"
            ],
            "text/plain": [
              "                cholesterol  glucose  ...  waist_hip_ratio     diabetes\n",
              "patient_number                        ...                              \n",
              "1                       193       77  ...             0.84  No diabetes\n",
              "2                       146       79  ...             0.83  No diabetes\n",
              "3                       217       75  ...             0.89  No diabetes\n",
              "4                       226       97  ...             0.79  No diabetes\n",
              "5                       164       91  ...             0.82  No diabetes\n",
              "...                     ...      ...  ...              ...          ...\n",
              "386                     227      105  ...             0.88  No diabetes\n",
              "387                     226      279  ...             0.85     Diabetes\n",
              "388                     301       90  ...             0.76  No diabetes\n",
              "389                     232      184  ...             0.92     Diabetes\n",
              "390                     165       94  ...                1  No diabetes\n",
              "\n",
              "[390 rows x 15 columns]"
            ]
          },
          "metadata": {},
          "execution_count": 5
        }
      ]
    },
    {
      "cell_type": "code",
      "metadata": {
        "colab": {
          "base_uri": "https://localhost:8080/",
          "height": 653
        },
        "id": "M3syszFLpW8B",
        "outputId": "a741c1d8-451e-4be4-ada9-05b55fef94d5"
      },
      "source": [
        "#Showing the distribution of the classes\n",
        "da=df['diabetes'].value_counts()\n",
        "plt.figure(figsize=(15,10))\n",
        "plt.ylabel('Instances', size=20) \n",
        "da.plot(kind=\"bar\")"
      ],
      "execution_count": 6,
      "outputs": [
        {
          "output_type": "execute_result",
          "data": {
            "text/plain": [
              "<matplotlib.axes._subplots.AxesSubplot at 0x7f2da741e610>"
            ]
          },
          "metadata": {},
          "execution_count": 6
        },
        {
          "output_type": "display_data",
          "data": {
            "image/png": "[encoded data removed]",
            "text/plain": [
              "<Figure size 1080x720 with 1 Axes>"
            ]
          },
          "metadata": {
            "needs_background": "light"
          }
        }
      ]
    },
    {
      "cell_type": "markdown",
      "metadata": {
        "id": "_THxd0TJqHaP"
      },
      "source": [
        "The database is unbalanced and the machine learning will not perform well. Don't worry, the total number of 'Diabetes' instances will be increased with oversampling."
      ]
    },
    {
      "cell_type": "markdown",
      "metadata": {
        "id": "dPpn9TBuaad8"
      },
      "source": [
        "\n",
        "# **Plotting the Correlation Matrix**\n",
        "Which variables have correlation with 'diabetes'? The correlation matrix can be used to visualize the answer. But first, all non-numeric values must be converted to numeric through the Labelenconder function."
      ]
    },
    {
      "cell_type": "code",
      "metadata": {
        "id": "22us7oa0p_9_"
      },
      "source": [
        "#LabelEnconder (numeric conversion of string values)\n",
        "x = df.iloc[:,0:14].values\n",
        "y = df.iloc[:, [14]].values\n",
        "labelencoder = LabelEncoder()\n",
        "x[:,5] = labelencoder.fit_transform(x[:,5])\n",
        "y[:,0] = labelencoder.fit_transform(y[:,0])\n",
        "y=y.astype(int)"
      ],
      "execution_count": 7,
      "outputs": []
    },
    {
      "cell_type": "code",
      "metadata": {
        "colab": {
          "base_uri": "https://localhost:8080/",
          "height": 424
        },
        "id": "-LVCxyFzX38C",
        "outputId": "0f235168-c142-4230-dd32-12d0d833aa68"
      },
      "source": [
        "Remove_col='diabetes'\n",
        "colunas=list(df.columns.values)\n",
        "colunas.remove(Remove_col)\n",
        "colunas\n",
        "dfs = pd.DataFrame(x, columns=colunas)\n",
        "dfs\n",
        "dfc=pd.DataFrame(y, columns=['diabetes'])\n",
        "dfc"
      ],
      "execution_count": 8,
      "outputs": [
        {
          "output_type": "execute_result",
          "data": {
            "text/html": [
              "<div>\n",
              "<style scoped>\n",
              "    .dataframe tbody tr th:only-of-type {\n",
              "        vertical-align: middle;\n",
              "    }\n",
              "\n",
              "    .dataframe tbody tr th {\n",
              "        vertical-align: top;\n",
              "    }\n",
              "\n",
              "    .dataframe thead th {\n",
              "        text-align: right;\n",
              "    }\n",
              "</style>\n",
              "<table border=\"1\" class=\"dataframe\">\n",
              "  <thead>\n",
              "    <tr style=\"text-align: right;\">\n",
              "      <th></th>\n",
              "      <th>diabetes</th>\n",
              "    </tr>\n",
              "  </thead>\n",
              "  <tbody>\n",
              "    <tr>\n",
              "      <th>0</th>\n",
              "      <td>1</td>\n",
              "    </tr>\n",
              "    <tr>\n",
              "      <th>1</th>\n",
              "      <td>1</td>\n",
              "    </tr>\n",
              "    <tr>\n",
              "      <th>2</th>\n",
              "      <td>1</td>\n",
              "    </tr>\n",
              "    <tr>\n",
              "      <th>3</th>\n",
              "      <td>1</td>\n",
              "    </tr>\n",
              "    <tr>\n",
              "      <th>4</th>\n",
              "      <td>1</td>\n",
              "    </tr>\n",
              "    <tr>\n",
              "      <th>...</th>\n",
              "      <td>...</td>\n",
              "    </tr>\n",
              "    <tr>\n",
              "      <th>385</th>\n",
              "      <td>1</td>\n",
              "    </tr>\n",
              "    <tr>\n",
              "      <th>386</th>\n",
              "      <td>0</td>\n",
              "    </tr>\n",
              "    <tr>\n",
              "      <th>387</th>\n",
              "      <td>1</td>\n",
              "    </tr>\n",
              "    <tr>\n",
              "      <th>388</th>\n",
              "      <td>0</td>\n",
              "    </tr>\n",
              "    <tr>\n",
              "      <th>389</th>\n",
              "      <td>1</td>\n",
              "    </tr>\n",
              "  </tbody>\n",
              "</table>\n",
              "<p>390 rows × 1 columns</p>\n",
              "</div>"
            ],
            "text/plain": [
              "     diabetes\n",
              "0           1\n",
              "1           1\n",
              "2           1\n",
              "3           1\n",
              "4           1\n",
              "..        ...\n",
              "385         1\n",
              "386         0\n",
              "387         1\n",
              "388         0\n",
              "389         1\n",
              "\n",
              "[390 rows x 1 columns]"
            ]
          },
          "metadata": {},
          "execution_count": 8
        }
      ]
    },
    {
      "cell_type": "code",
      "metadata": {
        "colab": {
          "base_uri": "https://localhost:8080/"
        },
        "id": "DIWIyUobzTUW",
        "outputId": "6a90aab0-e967-4275-82a6-32c696f45106"
      },
      "source": [
        "#Converting type of value\n",
        "a=pd.concat([dfs,dfc], axis=1)\n",
        "a['chol_hdl_ratio']=a['chol_hdl_ratio'].astype(float)\n",
        "a['gender']=a['gender'].astype(int)\n",
        "a['bmi']=a['bmi'].astype(float)\n",
        "a['waist_hip_ratio']=a['waist_hip_ratio'].astype(float)\n",
        "a['diabetes']=a['diabetes'].astype(int)\n",
        "for col in a.select_dtypes('object'):\n",
        "        a.loc[:,col]=a[col].astype(int)  \n",
        "a.info()"
      ],
      "execution_count": 9,
      "outputs": [
        {
          "output_type": "stream",
          "name": "stdout",
          "text": [
            "<class 'pandas.core.frame.DataFrame'>\n",
            "RangeIndex: 390 entries, 0 to 389\n",
            "Data columns (total 15 columns):\n",
            " #   Column           Non-Null Count  Dtype  \n",
            "---  ------           --------------  -----  \n",
            " 0   cholesterol      390 non-null    int64  \n",
            " 1   glucose          390 non-null    int64  \n",
            " 2   hdl_chol         390 non-null    int64  \n",
            " 3   chol_hdl_ratio   390 non-null    float64\n",
            " 4   age              390 non-null    int64  \n",
            " 5   gender           390 non-null    int64  \n",
            " 6   height           390 non-null    int64  \n",
            " 7   weight           390 non-null    int64  \n",
            " 8   bmi              390 non-null    float64\n",
            " 9   systolic_bp      390 non-null    int64  \n",
            " 10  diastolic_bp     390 non-null    int64  \n",
            " 11  waist            390 non-null    int64  \n",
            " 12  hip              390 non-null    int64  \n",
            " 13  waist_hip_ratio  390 non-null    float64\n",
            " 14  diabetes         390 non-null    int64  \n",
            "dtypes: float64(3), int64(12)\n",
            "memory usage: 45.8 KB\n"
          ]
        }
      ]
    },
    {
      "cell_type": "code",
      "metadata": {
        "colab": {
          "base_uri": "https://localhost:8080/",
          "height": 424
        },
        "id": "_6SinvhlKivi",
        "outputId": "c2ac24c7-666e-406e-9dd8-1748ba37b249"
      },
      "source": [
        "a"
      ],
      "execution_count": 10,
      "outputs": [
        {
          "output_type": "execute_result",
          "data": {
            "text/html": [
              "<div>\n",
              "<style scoped>\n",
              "    .dataframe tbody tr th:only-of-type {\n",
              "        vertical-align: middle;\n",
              "    }\n",
              "\n",
              "    .dataframe tbody tr th {\n",
              "        vertical-align: top;\n",
              "    }\n",
              "\n",
              "    .dataframe thead th {\n",
              "        text-align: right;\n",
              "    }\n",
              "</style>\n",
              "<table border=\"1\" class=\"dataframe\">\n",
              "  <thead>\n",
              "    <tr style=\"text-align: right;\">\n",
              "      <th></th>\n",
              "      <th>cholesterol</th>\n",
              "      <th>glucose</th>\n",
              "      <th>hdl_chol</th>\n",
              "      <th>chol_hdl_ratio</th>\n",
              "      <th>age</th>\n",
              "      <th>gender</th>\n",
              "      <th>height</th>\n",
              "      <th>weight</th>\n",
              "      <th>bmi</th>\n",
              "      <th>systolic_bp</th>\n",
              "      <th>diastolic_bp</th>\n",
              "      <th>waist</th>\n",
              "      <th>hip</th>\n",
              "      <th>waist_hip_ratio</th>\n",
              "      <th>diabetes</th>\n",
              "    </tr>\n",
              "  </thead>\n",
              "  <tbody>\n",
              "    <tr>\n",
              "      <th>0</th>\n",
              "      <td>193</td>\n",
              "      <td>77</td>\n",
              "      <td>49</td>\n",
              "      <td>3.9</td>\n",
              "      <td>19</td>\n",
              "      <td>0</td>\n",
              "      <td>61</td>\n",
              "      <td>119</td>\n",
              "      <td>22.5</td>\n",
              "      <td>118</td>\n",
              "      <td>70</td>\n",
              "      <td>32</td>\n",
              "      <td>38</td>\n",
              "      <td>0.84</td>\n",
              "      <td>1</td>\n",
              "    </tr>\n",
              "    <tr>\n",
              "      <th>1</th>\n",
              "      <td>146</td>\n",
              "      <td>79</td>\n",
              "      <td>41</td>\n",
              "      <td>3.6</td>\n",
              "      <td>19</td>\n",
              "      <td>0</td>\n",
              "      <td>60</td>\n",
              "      <td>135</td>\n",
              "      <td>26.4</td>\n",
              "      <td>108</td>\n",
              "      <td>58</td>\n",
              "      <td>33</td>\n",
              "      <td>40</td>\n",
              "      <td>0.83</td>\n",
              "      <td>1</td>\n",
              "    </tr>\n",
              "    <tr>\n",
              "      <th>2</th>\n",
              "      <td>217</td>\n",
              "      <td>75</td>\n",
              "      <td>54</td>\n",
              "      <td>4.0</td>\n",
              "      <td>20</td>\n",
              "      <td>0</td>\n",
              "      <td>67</td>\n",
              "      <td>187</td>\n",
              "      <td>29.3</td>\n",
              "      <td>110</td>\n",
              "      <td>72</td>\n",
              "      <td>40</td>\n",
              "      <td>45</td>\n",
              "      <td>0.89</td>\n",
              "      <td>1</td>\n",
              "    </tr>\n",
              "    <tr>\n",
              "      <th>3</th>\n",
              "      <td>226</td>\n",
              "      <td>97</td>\n",
              "      <td>70</td>\n",
              "      <td>3.2</td>\n",
              "      <td>20</td>\n",
              "      <td>0</td>\n",
              "      <td>64</td>\n",
              "      <td>114</td>\n",
              "      <td>19.6</td>\n",
              "      <td>122</td>\n",
              "      <td>64</td>\n",
              "      <td>31</td>\n",
              "      <td>39</td>\n",
              "      <td>0.79</td>\n",
              "      <td>1</td>\n",
              "    </tr>\n",
              "    <tr>\n",
              "      <th>4</th>\n",
              "      <td>164</td>\n",
              "      <td>91</td>\n",
              "      <td>67</td>\n",
              "      <td>2.4</td>\n",
              "      <td>20</td>\n",
              "      <td>0</td>\n",
              "      <td>70</td>\n",
              "      <td>141</td>\n",
              "      <td>20.2</td>\n",
              "      <td>122</td>\n",
              "      <td>86</td>\n",
              "      <td>32</td>\n",
              "      <td>39</td>\n",
              "      <td>0.82</td>\n",
              "      <td>1</td>\n",
              "    </tr>\n",
              "    <tr>\n",
              "      <th>...</th>\n",
              "      <td>...</td>\n",
              "      <td>...</td>\n",
              "      <td>...</td>\n",
              "      <td>...</td>\n",
              "      <td>...</td>\n",
              "      <td>...</td>\n",
              "      <td>...</td>\n",
              "      <td>...</td>\n",
              "      <td>...</td>\n",
              "      <td>...</td>\n",
              "      <td>...</td>\n",
              "      <td>...</td>\n",
              "      <td>...</td>\n",
              "      <td>...</td>\n",
              "      <td>...</td>\n",
              "    </tr>\n",
              "    <tr>\n",
              "      <th>385</th>\n",
              "      <td>227</td>\n",
              "      <td>105</td>\n",
              "      <td>44</td>\n",
              "      <td>5.2</td>\n",
              "      <td>83</td>\n",
              "      <td>0</td>\n",
              "      <td>59</td>\n",
              "      <td>125</td>\n",
              "      <td>25.2</td>\n",
              "      <td>150</td>\n",
              "      <td>90</td>\n",
              "      <td>35</td>\n",
              "      <td>40</td>\n",
              "      <td>0.88</td>\n",
              "      <td>1</td>\n",
              "    </tr>\n",
              "    <tr>\n",
              "      <th>386</th>\n",
              "      <td>226</td>\n",
              "      <td>279</td>\n",
              "      <td>52</td>\n",
              "      <td>4.3</td>\n",
              "      <td>84</td>\n",
              "      <td>0</td>\n",
              "      <td>60</td>\n",
              "      <td>192</td>\n",
              "      <td>37.5</td>\n",
              "      <td>144</td>\n",
              "      <td>88</td>\n",
              "      <td>41</td>\n",
              "      <td>48</td>\n",
              "      <td>0.85</td>\n",
              "      <td>0</td>\n",
              "    </tr>\n",
              "    <tr>\n",
              "      <th>387</th>\n",
              "      <td>301</td>\n",
              "      <td>90</td>\n",
              "      <td>118</td>\n",
              "      <td>2.6</td>\n",
              "      <td>89</td>\n",
              "      <td>0</td>\n",
              "      <td>61</td>\n",
              "      <td>115</td>\n",
              "      <td>21.7</td>\n",
              "      <td>218</td>\n",
              "      <td>90</td>\n",
              "      <td>31</td>\n",
              "      <td>41</td>\n",
              "      <td>0.76</td>\n",
              "      <td>1</td>\n",
              "    </tr>\n",
              "    <tr>\n",
              "      <th>388</th>\n",
              "      <td>232</td>\n",
              "      <td>184</td>\n",
              "      <td>114</td>\n",
              "      <td>2.0</td>\n",
              "      <td>91</td>\n",
              "      <td>0</td>\n",
              "      <td>61</td>\n",
              "      <td>127</td>\n",
              "      <td>24.0</td>\n",
              "      <td>170</td>\n",
              "      <td>82</td>\n",
              "      <td>35</td>\n",
              "      <td>38</td>\n",
              "      <td>0.92</td>\n",
              "      <td>0</td>\n",
              "    </tr>\n",
              "    <tr>\n",
              "      <th>389</th>\n",
              "      <td>165</td>\n",
              "      <td>94</td>\n",
              "      <td>69</td>\n",
              "      <td>2.4</td>\n",
              "      <td>92</td>\n",
              "      <td>0</td>\n",
              "      <td>62</td>\n",
              "      <td>217</td>\n",
              "      <td>39.7</td>\n",
              "      <td>160</td>\n",
              "      <td>82</td>\n",
              "      <td>51</td>\n",
              "      <td>51</td>\n",
              "      <td>1.00</td>\n",
              "      <td>1</td>\n",
              "    </tr>\n",
              "  </tbody>\n",
              "</table>\n",
              "<p>390 rows × 15 columns</p>\n",
              "</div>"
            ],
            "text/plain": [
              "     cholesterol  glucose  hdl_chol  ...  hip  waist_hip_ratio  diabetes\n",
              "0            193       77        49  ...   38             0.84         1\n",
              "1            146       79        41  ...   40             0.83         1\n",
              "2            217       75        54  ...   45             0.89         1\n",
              "3            226       97        70  ...   39             0.79         1\n",
              "4            164       91        67  ...   39             0.82         1\n",
              "..           ...      ...       ...  ...  ...              ...       ...\n",
              "385          227      105        44  ...   40             0.88         1\n",
              "386          226      279        52  ...   48             0.85         0\n",
              "387          301       90       118  ...   41             0.76         1\n",
              "388          232      184       114  ...   38             0.92         0\n",
              "389          165       94        69  ...   51             1.00         1\n",
              "\n",
              "[390 rows x 15 columns]"
            ]
          },
          "metadata": {},
          "execution_count": 10
        }
      ]
    },
    {
      "cell_type": "code",
      "metadata": {
        "colab": {
          "base_uri": "https://localhost:8080/",
          "height": 669
        },
        "id": "9zzaTdtqnXBo",
        "outputId": "98fd4bd9-e24f-49e6-9862-48a15c32c0a4"
      },
      "source": [
        "#Showing the correlation matrix\n",
        "corr = a.corr()\n",
        "plt.subplots(figsize=(10,10))\n",
        "sns.heatmap(corr, annot=True, fmt='.2g', vmin=-1, vmax=+1)\n",
        "plt.show()\n",
        "pd.DataFrame.corr"
      ],
      "execution_count": 11,
      "outputs": [
        {
          "output_type": "display_data",
          "data": {
            "image/png": "[encoded data removed]",
            "text/plain": [
              "<Figure size 720x720 with 2 Axes>"
            ]
          },
          "metadata": {
            "needs_background": "light"
          }
        },
        {
          "output_type": "execute_result",
          "data": {
            "text/plain": [
              "<function pandas.core.frame.DataFrame.corr>"
            ]
          },
          "metadata": {},
          "execution_count": 11
        }
      ]
    },
    {
      "cell_type": "markdown",
      "metadata": {
        "id": "blISLEYyfgAk"
      },
      "source": [
        "The matrix shows a strong negative correlation between 'glucose' and 'diabetes'. 'Glucose' is the most important variable for diabetes classification. But since the rest of the variables have a similar weak correlation (with 'diabetes'), it is not clear which ones should be used.   \n",
        "The selection of features will be handled by Principal Component Analysis (PCA) function.\n"
      ]
    },
    {
      "cell_type": "code",
      "metadata": {
        "colab": {
          "base_uri": "https://localhost:8080/",
          "height": 455
        },
        "id": "o4kHY-extYjm",
        "outputId": "5167014b-db0f-4b4e-fceb-a4df5c36c3e9"
      },
      "source": [
        "df"
      ],
      "execution_count": 12,
      "outputs": [
        {
          "output_type": "execute_result",
          "data": {
            "text/html": [
              "<div>\n",
              "<style scoped>\n",
              "    .dataframe tbody tr th:only-of-type {\n",
              "        vertical-align: middle;\n",
              "    }\n",
              "\n",
              "    .dataframe tbody tr th {\n",
              "        vertical-align: top;\n",
              "    }\n",
              "\n",
              "    .dataframe thead th {\n",
              "        text-align: right;\n",
              "    }\n",
              "</style>\n",
              "<table border=\"1\" class=\"dataframe\">\n",
              "  <thead>\n",
              "    <tr style=\"text-align: right;\">\n",
              "      <th></th>\n",
              "      <th>cholesterol</th>\n",
              "      <th>glucose</th>\n",
              "      <th>hdl_chol</th>\n",
              "      <th>chol_hdl_ratio</th>\n",
              "      <th>age</th>\n",
              "      <th>gender</th>\n",
              "      <th>height</th>\n",
              "      <th>weight</th>\n",
              "      <th>bmi</th>\n",
              "      <th>systolic_bp</th>\n",
              "      <th>diastolic_bp</th>\n",
              "      <th>waist</th>\n",
              "      <th>hip</th>\n",
              "      <th>waist_hip_ratio</th>\n",
              "      <th>diabetes</th>\n",
              "    </tr>\n",
              "    <tr>\n",
              "      <th>patient_number</th>\n",
              "      <th></th>\n",
              "      <th></th>\n",
              "      <th></th>\n",
              "      <th></th>\n",
              "      <th></th>\n",
              "      <th></th>\n",
              "      <th></th>\n",
              "      <th></th>\n",
              "      <th></th>\n",
              "      <th></th>\n",
              "      <th></th>\n",
              "      <th></th>\n",
              "      <th></th>\n",
              "      <th></th>\n",
              "      <th></th>\n",
              "    </tr>\n",
              "  </thead>\n",
              "  <tbody>\n",
              "    <tr>\n",
              "      <th>1</th>\n",
              "      <td>193</td>\n",
              "      <td>77</td>\n",
              "      <td>49</td>\n",
              "      <td>3.9</td>\n",
              "      <td>19</td>\n",
              "      <td>female</td>\n",
              "      <td>61</td>\n",
              "      <td>119</td>\n",
              "      <td>22.5</td>\n",
              "      <td>118</td>\n",
              "      <td>70</td>\n",
              "      <td>32</td>\n",
              "      <td>38</td>\n",
              "      <td>0.84</td>\n",
              "      <td>No diabetes</td>\n",
              "    </tr>\n",
              "    <tr>\n",
              "      <th>2</th>\n",
              "      <td>146</td>\n",
              "      <td>79</td>\n",
              "      <td>41</td>\n",
              "      <td>3.6</td>\n",
              "      <td>19</td>\n",
              "      <td>female</td>\n",
              "      <td>60</td>\n",
              "      <td>135</td>\n",
              "      <td>26.4</td>\n",
              "      <td>108</td>\n",
              "      <td>58</td>\n",
              "      <td>33</td>\n",
              "      <td>40</td>\n",
              "      <td>0.83</td>\n",
              "      <td>No diabetes</td>\n",
              "    </tr>\n",
              "    <tr>\n",
              "      <th>3</th>\n",
              "      <td>217</td>\n",
              "      <td>75</td>\n",
              "      <td>54</td>\n",
              "      <td>4</td>\n",
              "      <td>20</td>\n",
              "      <td>female</td>\n",
              "      <td>67</td>\n",
              "      <td>187</td>\n",
              "      <td>29.3</td>\n",
              "      <td>110</td>\n",
              "      <td>72</td>\n",
              "      <td>40</td>\n",
              "      <td>45</td>\n",
              "      <td>0.89</td>\n",
              "      <td>No diabetes</td>\n",
              "    </tr>\n",
              "    <tr>\n",
              "      <th>4</th>\n",
              "      <td>226</td>\n",
              "      <td>97</td>\n",
              "      <td>70</td>\n",
              "      <td>3.2</td>\n",
              "      <td>20</td>\n",
              "      <td>female</td>\n",
              "      <td>64</td>\n",
              "      <td>114</td>\n",
              "      <td>19.6</td>\n",
              "      <td>122</td>\n",
              "      <td>64</td>\n",
              "      <td>31</td>\n",
              "      <td>39</td>\n",
              "      <td>0.79</td>\n",
              "      <td>No diabetes</td>\n",
              "    </tr>\n",
              "    <tr>\n",
              "      <th>5</th>\n",
              "      <td>164</td>\n",
              "      <td>91</td>\n",
              "      <td>67</td>\n",
              "      <td>2.4</td>\n",
              "      <td>20</td>\n",
              "      <td>female</td>\n",
              "      <td>70</td>\n",
              "      <td>141</td>\n",
              "      <td>20.2</td>\n",
              "      <td>122</td>\n",
              "      <td>86</td>\n",
              "      <td>32</td>\n",
              "      <td>39</td>\n",
              "      <td>0.82</td>\n",
              "      <td>No diabetes</td>\n",
              "    </tr>\n",
              "    <tr>\n",
              "      <th>...</th>\n",
              "      <td>...</td>\n",
              "      <td>...</td>\n",
              "      <td>...</td>\n",
              "      <td>...</td>\n",
              "      <td>...</td>\n",
              "      <td>...</td>\n",
              "      <td>...</td>\n",
              "      <td>...</td>\n",
              "      <td>...</td>\n",
              "      <td>...</td>\n",
              "      <td>...</td>\n",
              "      <td>...</td>\n",
              "      <td>...</td>\n",
              "      <td>...</td>\n",
              "      <td>...</td>\n",
              "    </tr>\n",
              "    <tr>\n",
              "      <th>386</th>\n",
              "      <td>227</td>\n",
              "      <td>105</td>\n",
              "      <td>44</td>\n",
              "      <td>5.2</td>\n",
              "      <td>83</td>\n",
              "      <td>female</td>\n",
              "      <td>59</td>\n",
              "      <td>125</td>\n",
              "      <td>25.2</td>\n",
              "      <td>150</td>\n",
              "      <td>90</td>\n",
              "      <td>35</td>\n",
              "      <td>40</td>\n",
              "      <td>0.88</td>\n",
              "      <td>No diabetes</td>\n",
              "    </tr>\n",
              "    <tr>\n",
              "      <th>387</th>\n",
              "      <td>226</td>\n",
              "      <td>279</td>\n",
              "      <td>52</td>\n",
              "      <td>4.3</td>\n",
              "      <td>84</td>\n",
              "      <td>female</td>\n",
              "      <td>60</td>\n",
              "      <td>192</td>\n",
              "      <td>37.5</td>\n",
              "      <td>144</td>\n",
              "      <td>88</td>\n",
              "      <td>41</td>\n",
              "      <td>48</td>\n",
              "      <td>0.85</td>\n",
              "      <td>Diabetes</td>\n",
              "    </tr>\n",
              "    <tr>\n",
              "      <th>388</th>\n",
              "      <td>301</td>\n",
              "      <td>90</td>\n",
              "      <td>118</td>\n",
              "      <td>2.6</td>\n",
              "      <td>89</td>\n",
              "      <td>female</td>\n",
              "      <td>61</td>\n",
              "      <td>115</td>\n",
              "      <td>21.7</td>\n",
              "      <td>218</td>\n",
              "      <td>90</td>\n",
              "      <td>31</td>\n",
              "      <td>41</td>\n",
              "      <td>0.76</td>\n",
              "      <td>No diabetes</td>\n",
              "    </tr>\n",
              "    <tr>\n",
              "      <th>389</th>\n",
              "      <td>232</td>\n",
              "      <td>184</td>\n",
              "      <td>114</td>\n",
              "      <td>2</td>\n",
              "      <td>91</td>\n",
              "      <td>female</td>\n",
              "      <td>61</td>\n",
              "      <td>127</td>\n",
              "      <td>24</td>\n",
              "      <td>170</td>\n",
              "      <td>82</td>\n",
              "      <td>35</td>\n",
              "      <td>38</td>\n",
              "      <td>0.92</td>\n",
              "      <td>Diabetes</td>\n",
              "    </tr>\n",
              "    <tr>\n",
              "      <th>390</th>\n",
              "      <td>165</td>\n",
              "      <td>94</td>\n",
              "      <td>69</td>\n",
              "      <td>2.4</td>\n",
              "      <td>92</td>\n",
              "      <td>female</td>\n",
              "      <td>62</td>\n",
              "      <td>217</td>\n",
              "      <td>39.7</td>\n",
              "      <td>160</td>\n",
              "      <td>82</td>\n",
              "      <td>51</td>\n",
              "      <td>51</td>\n",
              "      <td>1</td>\n",
              "      <td>No diabetes</td>\n",
              "    </tr>\n",
              "  </tbody>\n",
              "</table>\n",
              "<p>390 rows × 15 columns</p>\n",
              "</div>"
            ],
            "text/plain": [
              "                cholesterol  glucose  ...  waist_hip_ratio     diabetes\n",
              "patient_number                        ...                              \n",
              "1                       193       77  ...             0.84  No diabetes\n",
              "2                       146       79  ...             0.83  No diabetes\n",
              "3                       217       75  ...             0.89  No diabetes\n",
              "4                       226       97  ...             0.79  No diabetes\n",
              "5                       164       91  ...             0.82  No diabetes\n",
              "...                     ...      ...  ...              ...          ...\n",
              "386                     227      105  ...             0.88  No diabetes\n",
              "387                     226      279  ...             0.85     Diabetes\n",
              "388                     301       90  ...             0.76  No diabetes\n",
              "389                     232      184  ...             0.92     Diabetes\n",
              "390                     165       94  ...                1  No diabetes\n",
              "\n",
              "[390 rows x 15 columns]"
            ]
          },
          "metadata": {},
          "execution_count": 12
        }
      ]
    },
    {
      "cell_type": "markdown",
      "metadata": {
        "id": "61iCWiawU4vn"
      },
      "source": [
        "\n",
        "\n",
        "---\n",
        "# **Preparing the database and Data Preprocessing**\n",
        "\n"
      ]
    },
    {
      "cell_type": "markdown",
      "metadata": {
        "id": "63MIIN1ME3td"
      },
      "source": [
        "# **Spliting the data**\n",
        "It is necessary to split the dataset in two parts: training and testing.\n",
        "The reason being that 'testing' data cannot be adjusted. It must remain unbalaced. Otherwise, the machine learning model would be cheating.\n",
        "\n",
        "On the other hand, 'training' data will be going through oversampling (to increase the under-represented class).\n",
        "\n",
        "Also, both 'training' and 'testing' data must be going through scaling and PCA to improve machine learning perfomance."
      ]
    },
    {
      "cell_type": "code",
      "metadata": {
        "id": "b8r70ZrN2UBz"
      },
      "source": [
        "#Splitting the dataframe into train and test. 30% is test\n",
        "x_treinamento, x_teste, y_treinamento, y_teste = train_test_split(x, y,\n",
        "                                                                  test_size = 0.3,\n",
        "                                                                  random_state = 24)"
      ],
      "execution_count": 13,
      "outputs": []
    },
    {
      "cell_type": "markdown",
      "metadata": {
        "id": "zBtWCw8QEW8m"
      },
      "source": [
        "# **Scaling**\n",
        "Scaling the data can increase machine learning performance and is needed in order to run PCA function. The StandardScaler function is used."
      ]
    },
    {
      "cell_type": "code",
      "metadata": {
        "colab": {
          "base_uri": "https://localhost:8080/"
        },
        "id": "6S3saMca7da9",
        "outputId": "449ec450-0e31-45bb-e5ee-30a97f7a862d"
      },
      "source": [
        "#Scaling. Fit is applied on the training data. But transform is applied on both\n",
        "scalerModel = StandardScaler().fit(x_treinamento)\n",
        "x_train_scaled = scalerModel.transform(x_treinamento)\n",
        "x_test_scaled = scalerModel.transform(x_teste)\n",
        "x_train_scaled\n",
        "#x_test_scaled"
      ],
      "execution_count": 14,
      "outputs": [
        {
          "output_type": "execute_result",
          "data": {
            "text/plain": [
              "array([[ 0.41538945, -0.64354928, -0.43212425, ..., -0.64294891,\n",
              "        -0.66956624, -0.16303831],\n",
              "       [ 2.01454969,  3.46010224,  0.46328312, ...,  0.7124569 ,\n",
              "         0.88831657, -0.02937627],\n",
              "       [-0.44213126, -0.44604733, -0.43212425, ...,  0.37360545,\n",
              "         0.3690223 ,  0.10428577],\n",
              "       ...,\n",
              "       [-0.81295103,  0.45368375, -0.43212425, ..., -0.30409746,\n",
              "         0.02282612, -0.56402444],\n",
              "       [ 1.18020522, -0.81910656, -0.32019833, ..., -0.30409746,\n",
              "         0.02282612, -0.56402444],\n",
              "       [ 2.13043087, -0.31437937,  3.70913485, ..., -1.15122609,\n",
              "        -0.32337006, -1.63332077]])"
            ]
          },
          "metadata": {},
          "execution_count": 14
        }
      ]
    },
    {
      "cell_type": "code",
      "metadata": {
        "colab": {
          "base_uri": "https://localhost:8080/",
          "height": 424
        },
        "id": "r_5k7WYj7kBV",
        "outputId": "dc576672-c5b1-40ac-a904-7cede06d60d3"
      },
      "source": [
        "pd.DataFrame(x_train_scaled)"
      ],
      "execution_count": 15,
      "outputs": [
        {
          "output_type": "execute_result",
          "data": {
            "text/html": [
              "<div>\n",
              "<style scoped>\n",
              "    .dataframe tbody tr th:only-of-type {\n",
              "        vertical-align: middle;\n",
              "    }\n",
              "\n",
              "    .dataframe tbody tr th {\n",
              "        vertical-align: top;\n",
              "    }\n",
              "\n",
              "    .dataframe thead th {\n",
              "        text-align: right;\n",
              "    }\n",
              "</style>\n",
              "<table border=\"1\" class=\"dataframe\">\n",
              "  <thead>\n",
              "    <tr style=\"text-align: right;\">\n",
              "      <th></th>\n",
              "      <th>0</th>\n",
              "      <th>1</th>\n",
              "      <th>2</th>\n",
              "      <th>3</th>\n",
              "      <th>4</th>\n",
              "      <th>5</th>\n",
              "      <th>6</th>\n",
              "      <th>7</th>\n",
              "      <th>8</th>\n",
              "      <th>9</th>\n",
              "      <th>10</th>\n",
              "      <th>11</th>\n",
              "      <th>12</th>\n",
              "      <th>13</th>\n",
              "    </tr>\n",
              "  </thead>\n",
              "  <tbody>\n",
              "    <tr>\n",
              "      <th>0</th>\n",
              "      <td>0.415389</td>\n",
              "      <td>-0.643549</td>\n",
              "      <td>-0.432124</td>\n",
              "      <td>0.432321</td>\n",
              "      <td>-0.652218</td>\n",
              "      <td>1.189928</td>\n",
              "      <td>-1.724296</td>\n",
              "      <td>-0.160765</td>\n",
              "      <td>0.852319</td>\n",
              "      <td>0.082195</td>\n",
              "      <td>0.032945</td>\n",
              "      <td>-0.642949</td>\n",
              "      <td>-0.669566</td>\n",
              "      <td>-0.163038</td>\n",
              "    </tr>\n",
              "    <tr>\n",
              "      <th>1</th>\n",
              "      <td>2.014550</td>\n",
              "      <td>3.460102</td>\n",
              "      <td>0.463283</td>\n",
              "      <td>0.260107</td>\n",
              "      <td>1.574228</td>\n",
              "      <td>-0.840387</td>\n",
              "      <td>-0.718457</td>\n",
              "      <td>0.160132</td>\n",
              "      <td>0.562931</td>\n",
              "      <td>0.946988</td>\n",
              "      <td>1.176259</td>\n",
              "      <td>0.712457</td>\n",
              "      <td>0.888317</td>\n",
              "      <td>-0.029376</td>\n",
              "    </tr>\n",
              "    <tr>\n",
              "      <th>2</th>\n",
              "      <td>-0.442131</td>\n",
              "      <td>-0.446047</td>\n",
              "      <td>-0.432124</td>\n",
              "      <td>-0.084319</td>\n",
              "      <td>-0.291173</td>\n",
              "      <td>-0.840387</td>\n",
              "      <td>-0.969917</td>\n",
              "      <td>-0.333556</td>\n",
              "      <td>0.166927</td>\n",
              "      <td>-0.145383</td>\n",
              "      <td>0.337829</td>\n",
              "      <td>0.373605</td>\n",
              "      <td>0.369022</td>\n",
              "      <td>0.104286</td>\n",
              "    </tr>\n",
              "    <tr>\n",
              "      <th>3</th>\n",
              "      <td>-0.418955</td>\n",
              "      <td>-0.665494</td>\n",
              "      <td>-1.047717</td>\n",
              "      <td>0.776747</td>\n",
              "      <td>-0.471695</td>\n",
              "      <td>1.189928</td>\n",
              "      <td>1.544682</td>\n",
              "      <td>2.307676</td>\n",
              "      <td>1.202630</td>\n",
              "      <td>-0.099867</td>\n",
              "      <td>-1.034147</td>\n",
              "      <td>1.220734</td>\n",
              "      <td>1.061415</td>\n",
              "      <td>0.505272</td>\n",
              "    </tr>\n",
              "    <tr>\n",
              "      <th>4</th>\n",
              "      <td>-0.673894</td>\n",
              "      <td>-0.446047</td>\n",
              "      <td>0.966950</td>\n",
              "      <td>-1.060195</td>\n",
              "      <td>-0.471695</td>\n",
              "      <td>-0.840387</td>\n",
              "      <td>0.538843</td>\n",
              "      <td>2.159570</td>\n",
              "      <td>1.735713</td>\n",
              "      <td>0.173225</td>\n",
              "      <td>1.100038</td>\n",
              "      <td>0.881883</td>\n",
              "      <td>1.926905</td>\n",
              "      <td>-1.098673</td>\n",
              "    </tr>\n",
              "    <tr>\n",
              "      <th>...</th>\n",
              "      <td>...</td>\n",
              "      <td>...</td>\n",
              "      <td>...</td>\n",
              "      <td>...</td>\n",
              "      <td>...</td>\n",
              "      <td>...</td>\n",
              "      <td>...</td>\n",
              "      <td>...</td>\n",
              "      <td>...</td>\n",
              "      <td>...</td>\n",
              "      <td>...</td>\n",
              "      <td>...</td>\n",
              "      <td>...</td>\n",
              "      <td>...</td>\n",
              "    </tr>\n",
              "    <tr>\n",
              "      <th>268</th>\n",
              "      <td>-1.485062</td>\n",
              "      <td>-0.424103</td>\n",
              "      <td>-1.271569</td>\n",
              "      <td>0.317512</td>\n",
              "      <td>-0.592044</td>\n",
              "      <td>-0.840387</td>\n",
              "      <td>-1.472837</td>\n",
              "      <td>-1.271564</td>\n",
              "      <td>-0.655544</td>\n",
              "      <td>-0.281929</td>\n",
              "      <td>-0.119496</td>\n",
              "      <td>-1.151226</td>\n",
              "      <td>-1.361959</td>\n",
              "      <td>0.104286</td>\n",
              "    </tr>\n",
              "    <tr>\n",
              "      <th>269</th>\n",
              "      <td>-0.836127</td>\n",
              "      <td>-0.467992</td>\n",
              "      <td>-0.823865</td>\n",
              "      <td>0.145298</td>\n",
              "      <td>-0.471695</td>\n",
              "      <td>-0.840387</td>\n",
              "      <td>-0.969917</td>\n",
              "      <td>-1.148142</td>\n",
              "      <td>-0.746930</td>\n",
              "      <td>-0.737083</td>\n",
              "      <td>-0.576822</td>\n",
              "      <td>-0.134672</td>\n",
              "      <td>-0.842664</td>\n",
              "      <td>1.173582</td>\n",
              "    </tr>\n",
              "    <tr>\n",
              "      <th>270</th>\n",
              "      <td>-0.812951</td>\n",
              "      <td>0.453684</td>\n",
              "      <td>-0.432124</td>\n",
              "      <td>-0.256533</td>\n",
              "      <td>1.153008</td>\n",
              "      <td>1.189928</td>\n",
              "      <td>0.538843</td>\n",
              "      <td>0.530398</td>\n",
              "      <td>0.212619</td>\n",
              "      <td>-0.873630</td>\n",
              "      <td>-0.881705</td>\n",
              "      <td>-0.304097</td>\n",
              "      <td>0.022826</td>\n",
              "      <td>-0.564024</td>\n",
              "    </tr>\n",
              "    <tr>\n",
              "      <th>271</th>\n",
              "      <td>1.180205</td>\n",
              "      <td>-0.819107</td>\n",
              "      <td>-0.320198</td>\n",
              "      <td>0.719343</td>\n",
              "      <td>-0.230998</td>\n",
              "      <td>-0.840387</td>\n",
              "      <td>-0.969917</td>\n",
              "      <td>-0.432294</td>\n",
              "      <td>0.060310</td>\n",
              "      <td>0.082195</td>\n",
              "      <td>0.795154</td>\n",
              "      <td>-0.304097</td>\n",
              "      <td>0.022826</td>\n",
              "      <td>-0.564024</td>\n",
              "    </tr>\n",
              "    <tr>\n",
              "      <th>272</th>\n",
              "      <td>2.130431</td>\n",
              "      <td>-0.314379</td>\n",
              "      <td>3.709135</td>\n",
              "      <td>-1.060195</td>\n",
              "      <td>2.476841</td>\n",
              "      <td>-0.840387</td>\n",
              "      <td>-1.221377</td>\n",
              "      <td>-1.518408</td>\n",
              "      <td>-1.066779</td>\n",
              "      <td>3.632398</td>\n",
              "      <td>0.490271</td>\n",
              "      <td>-1.151226</td>\n",
              "      <td>-0.323370</td>\n",
              "      <td>-1.633321</td>\n",
              "    </tr>\n",
              "  </tbody>\n",
              "</table>\n",
              "<p>273 rows × 14 columns</p>\n",
              "</div>"
            ],
            "text/plain": [
              "           0         1         2   ...        11        12        13\n",
              "0    0.415389 -0.643549 -0.432124  ... -0.642949 -0.669566 -0.163038\n",
              "1    2.014550  3.460102  0.463283  ...  0.712457  0.888317 -0.029376\n",
              "2   -0.442131 -0.446047 -0.432124  ...  0.373605  0.369022  0.104286\n",
              "3   -0.418955 -0.665494 -1.047717  ...  1.220734  1.061415  0.505272\n",
              "4   -0.673894 -0.446047  0.966950  ...  0.881883  1.926905 -1.098673\n",
              "..        ...       ...       ...  ...       ...       ...       ...\n",
              "268 -1.485062 -0.424103 -1.271569  ... -1.151226 -1.361959  0.104286\n",
              "269 -0.836127 -0.467992 -0.823865  ... -0.134672 -0.842664  1.173582\n",
              "270 -0.812951  0.453684 -0.432124  ... -0.304097  0.022826 -0.564024\n",
              "271  1.180205 -0.819107 -0.320198  ... -0.304097  0.022826 -0.564024\n",
              "272  2.130431 -0.314379  3.709135  ... -1.151226 -0.323370 -1.633321\n",
              "\n",
              "[273 rows x 14 columns]"
            ]
          },
          "metadata": {},
          "execution_count": 15
        }
      ]
    },
    {
      "cell_type": "markdown",
      "metadata": {
        "id": "l-_ZUndPEggm"
      },
      "source": [
        "# **Principal Component Analysis (PCA)**\n",
        "Optimization. Not all variables are necessary to run the model. While using PCA, it is possible to condense the data into a smaller group of atributes while maintaining 95% of the variance (information) of the original data. "
      ]
    },
    {
      "cell_type": "code",
      "metadata": {
        "colab": {
          "base_uri": "https://localhost:8080/"
        },
        "id": "RC_qtjVO7lte",
        "outputId": "067ecd8b-95cc-48cb-8796-c9684d88ddc4"
      },
      "source": [
        "#Selecting all columns\n",
        "pca=PCA(n_components=14)\n",
        "pca.fit(x_train_scaled)"
      ],
      "execution_count": 16,
      "outputs": [
        {
          "output_type": "execute_result",
          "data": {
            "text/plain": [
              "PCA(copy=True, iterated_power='auto', n_components=14, random_state=None,\n",
              "    svd_solver='auto', tol=0.0, whiten=False)"
            ]
          },
          "metadata": {},
          "execution_count": 16
        }
      ]
    },
    {
      "cell_type": "code",
      "metadata": {
        "colab": {
          "base_uri": "https://localhost:8080/"
        },
        "id": "6R6amuN-9mco",
        "outputId": "c9cf00ee-25e3-4178-a476-91f5deff0fb5"
      },
      "source": [
        "pca.explained_variance_ratio_"
      ],
      "execution_count": 17,
      "outputs": [
        {
          "output_type": "execute_result",
          "data": {
            "text/plain": [
              "array([2.86221585e-01, 1.55529434e-01, 1.40709945e-01, 1.07524191e-01,\n",
              "       8.20159825e-02, 7.07627929e-02, 5.84082536e-02, 4.27624240e-02,\n",
              "       2.39880425e-02, 1.68666479e-02, 9.11136889e-03, 5.50506091e-03,\n",
              "       4.48347126e-04, 1.45925473e-04])"
            ]
          },
          "metadata": {},
          "execution_count": 17
        }
      ]
    },
    {
      "cell_type": "code",
      "metadata": {
        "colab": {
          "base_uri": "https://localhost:8080/",
          "height": 627
        },
        "id": "GEZRXmcd7oUG",
        "outputId": "56dbc1d4-99d4-4dc2-c9a2-624a28e773ae"
      },
      "source": [
        "#Plotting the ammount of variance that each variable has\n",
        "plt.figure(figsize=(10,10))\n",
        "plt.hist(pca.explained_variance_ratio_, bins=14)\n",
        "plt.xlabel('Components', size=15) \n",
        "plt.ylabel('Explained variance', size=15) \n",
        "plt.show"
      ],
      "execution_count": 18,
      "outputs": [
        {
          "output_type": "execute_result",
          "data": {
            "text/plain": [
              "<function matplotlib.pyplot.show>"
            ]
          },
          "metadata": {},
          "execution_count": 18
        },
        {
          "output_type": "display_data",
          "data": {
            "image/png": "[encoded data removed]",
            "text/plain": [
              "<Figure size 720x720 with 1 Axes>"
            ]
          },
          "metadata": {
            "needs_background": "light"
          }
        }
      ]
    },
    {
      "cell_type": "markdown",
      "metadata": {
        "id": "Xkoy-4aOGEN3"
      },
      "source": [
        "Not all variables contains significant variance."
      ]
    },
    {
      "cell_type": "code",
      "metadata": {
        "id": "jy6R_N-m7oyn"
      },
      "source": [
        "#Calculating the cumulative variance\n",
        "def getKComponents(pca, alpha):\n",
        "  total_variance=0\n",
        "  for feature, variance in enumerate(pca.explained_variance_ratio_):\n",
        "    total_variance += variance\n",
        "    if(total_variance >= 1 - alpha):\n",
        "      return feature + 1\n",
        "  return len(pca.explained_variance_ratio_)"
      ],
      "execution_count": 19,
      "outputs": []
    },
    {
      "cell_type": "code",
      "metadata": {
        "colab": {
          "base_uri": "https://localhost:8080/"
        },
        "id": "vCIFjLYM7rQJ",
        "outputId": "df225386-03f7-4091-a290-c1859763b775"
      },
      "source": [
        "#How much variables are needed to get 95% variance\n",
        "K=getKComponents(pca,0.05)\n",
        "K"
      ],
      "execution_count": 20,
      "outputs": [
        {
          "output_type": "execute_result",
          "data": {
            "text/plain": [
              "9"
            ]
          },
          "metadata": {},
          "execution_count": 20
        }
      ]
    },
    {
      "cell_type": "code",
      "metadata": {
        "colab": {
          "base_uri": "https://localhost:8080/",
          "height": 424
        },
        "id": "qzQE6Y5B7ucy",
        "outputId": "06fa2062-e6b7-4822-80c0-9193f84656e1"
      },
      "source": [
        "#The resulted dataframe\n",
        "x_train_scaled=pca.transform(x_train_scaled)[:,0:K]\n",
        "x_test_scaled=pca.transform(x_test_scaled)[:,0:K]\n",
        "pd.DataFrame(x_train_scaled)"
      ],
      "execution_count": 21,
      "outputs": [
        {
          "output_type": "execute_result",
          "data": {
            "text/html": [
              "<div>\n",
              "<style scoped>\n",
              "    .dataframe tbody tr th:only-of-type {\n",
              "        vertical-align: middle;\n",
              "    }\n",
              "\n",
              "    .dataframe tbody tr th {\n",
              "        vertical-align: top;\n",
              "    }\n",
              "\n",
              "    .dataframe thead th {\n",
              "        text-align: right;\n",
              "    }\n",
              "</style>\n",
              "<table border=\"1\" class=\"dataframe\">\n",
              "  <thead>\n",
              "    <tr style=\"text-align: right;\">\n",
              "      <th></th>\n",
              "      <th>0</th>\n",
              "      <th>1</th>\n",
              "      <th>2</th>\n",
              "      <th>3</th>\n",
              "      <th>4</th>\n",
              "      <th>5</th>\n",
              "      <th>6</th>\n",
              "      <th>7</th>\n",
              "      <th>8</th>\n",
              "    </tr>\n",
              "  </thead>\n",
              "  <tbody>\n",
              "    <tr>\n",
              "      <th>0</th>\n",
              "      <td>-0.301668</td>\n",
              "      <td>-0.361813</td>\n",
              "      <td>0.107991</td>\n",
              "      <td>0.596256</td>\n",
              "      <td>0.899577</td>\n",
              "      <td>-0.083272</td>\n",
              "      <td>-0.705480</td>\n",
              "      <td>-0.184807</td>\n",
              "      <td>2.029393</td>\n",
              "    </tr>\n",
              "    <tr>\n",
              "      <th>1</th>\n",
              "      <td>2.100907</td>\n",
              "      <td>1.073150</td>\n",
              "      <td>3.102378</td>\n",
              "      <td>0.801905</td>\n",
              "      <td>-0.687001</td>\n",
              "      <td>0.434342</td>\n",
              "      <td>2.205930</td>\n",
              "      <td>1.325304</td>\n",
              "      <td>0.331763</td>\n",
              "    </tr>\n",
              "    <tr>\n",
              "      <th>2</th>\n",
              "      <td>0.263464</td>\n",
              "      <td>-1.100593</td>\n",
              "      <td>0.345677</td>\n",
              "      <td>0.215247</td>\n",
              "      <td>0.129648</td>\n",
              "      <td>-0.690814</td>\n",
              "      <td>-0.780312</td>\n",
              "      <td>0.305243</td>\n",
              "      <td>0.000764</td>\n",
              "    </tr>\n",
              "    <tr>\n",
              "      <th>3</th>\n",
              "      <td>2.757590</td>\n",
              "      <td>0.337105</td>\n",
              "      <td>-2.623536</td>\n",
              "      <td>-0.454370</td>\n",
              "      <td>0.021488</td>\n",
              "      <td>0.458702</td>\n",
              "      <td>-0.204910</td>\n",
              "      <td>-1.132581</td>\n",
              "      <td>-0.245882</td>\n",
              "    </tr>\n",
              "    <tr>\n",
              "      <th>4</th>\n",
              "      <td>2.347132</td>\n",
              "      <td>-2.096065</td>\n",
              "      <td>-0.013789</td>\n",
              "      <td>-2.593922</td>\n",
              "      <td>0.389541</td>\n",
              "      <td>0.207531</td>\n",
              "      <td>0.917825</td>\n",
              "      <td>-0.295979</td>\n",
              "      <td>-0.354525</td>\n",
              "    </tr>\n",
              "    <tr>\n",
              "      <th>...</th>\n",
              "      <td>...</td>\n",
              "      <td>...</td>\n",
              "      <td>...</td>\n",
              "      <td>...</td>\n",
              "      <td>...</td>\n",
              "      <td>...</td>\n",
              "      <td>...</td>\n",
              "      <td>...</td>\n",
              "      <td>...</td>\n",
              "    </tr>\n",
              "    <tr>\n",
              "      <th>268</th>\n",
              "      <td>-1.882410</td>\n",
              "      <td>-0.845369</td>\n",
              "      <td>-0.173267</td>\n",
              "      <td>1.504002</td>\n",
              "      <td>0.298060</td>\n",
              "      <td>-2.093736</td>\n",
              "      <td>-1.101155</td>\n",
              "      <td>0.527485</td>\n",
              "      <td>0.236268</td>\n",
              "    </tr>\n",
              "    <tr>\n",
              "      <th>269</th>\n",
              "      <td>-1.165331</td>\n",
              "      <td>-0.477356</td>\n",
              "      <td>-0.439864</td>\n",
              "      <td>1.284136</td>\n",
              "      <td>-0.583089</td>\n",
              "      <td>-0.959639</td>\n",
              "      <td>-1.675809</td>\n",
              "      <td>0.839004</td>\n",
              "      <td>-0.208362</td>\n",
              "    </tr>\n",
              "    <tr>\n",
              "      <th>270</th>\n",
              "      <td>-0.061609</td>\n",
              "      <td>0.363364</td>\n",
              "      <td>-1.212572</td>\n",
              "      <td>0.145246</td>\n",
              "      <td>-1.065357</td>\n",
              "      <td>-0.235973</td>\n",
              "      <td>1.010460</td>\n",
              "      <td>-1.303207</td>\n",
              "      <td>0.755080</td>\n",
              "    </tr>\n",
              "    <tr>\n",
              "      <th>271</th>\n",
              "      <td>-0.076980</td>\n",
              "      <td>-0.707635</td>\n",
              "      <td>1.174521</td>\n",
              "      <td>0.824337</td>\n",
              "      <td>1.544140</td>\n",
              "      <td>0.372173</td>\n",
              "      <td>-0.641313</td>\n",
              "      <td>0.025850</td>\n",
              "      <td>0.149991</td>\n",
              "    </tr>\n",
              "    <tr>\n",
              "      <th>272</th>\n",
              "      <td>-2.282532</td>\n",
              "      <td>0.542860</td>\n",
              "      <td>5.833134</td>\n",
              "      <td>-1.417003</td>\n",
              "      <td>-0.050738</td>\n",
              "      <td>1.287017</td>\n",
              "      <td>0.995999</td>\n",
              "      <td>-1.524355</td>\n",
              "      <td>-0.789930</td>\n",
              "    </tr>\n",
              "  </tbody>\n",
              "</table>\n",
              "<p>273 rows × 9 columns</p>\n",
              "</div>"
            ],
            "text/plain": [
              "            0         1         2  ...         6         7         8\n",
              "0   -0.301668 -0.361813  0.107991  ... -0.705480 -0.184807  2.029393\n",
              "1    2.100907  1.073150  3.102378  ...  2.205930  1.325304  0.331763\n",
              "2    0.263464 -1.100593  0.345677  ... -0.780312  0.305243  0.000764\n",
              "3    2.757590  0.337105 -2.623536  ... -0.204910 -1.132581 -0.245882\n",
              "4    2.347132 -2.096065 -0.013789  ...  0.917825 -0.295979 -0.354525\n",
              "..        ...       ...       ...  ...       ...       ...       ...\n",
              "268 -1.882410 -0.845369 -0.173267  ... -1.101155  0.527485  0.236268\n",
              "269 -1.165331 -0.477356 -0.439864  ... -1.675809  0.839004 -0.208362\n",
              "270 -0.061609  0.363364 -1.212572  ...  1.010460 -1.303207  0.755080\n",
              "271 -0.076980 -0.707635  1.174521  ... -0.641313  0.025850  0.149991\n",
              "272 -2.282532  0.542860  5.833134  ...  0.995999 -1.524355 -0.789930\n",
              "\n",
              "[273 rows x 9 columns]"
            ]
          },
          "metadata": {},
          "execution_count": 21
        }
      ]
    },
    {
      "cell_type": "markdown",
      "metadata": {
        "id": "VVdcq0ceEvTv"
      },
      "source": [
        "PCA reduced the number of dimensions of the dataset. It used to be 14. Now it is 9."
      ]
    },
    {
      "cell_type": "markdown",
      "metadata": {
        "id": "0ZtMGz2EEL9U"
      },
      "source": [
        "\n",
        "# **Oversampling**\n",
        "The database is unbalanced. A solution could be to do undersampling (to delete instances of the over-represented class), but that would result in a very small dataset.\n",
        "\n",
        "Another solution is to use SMOTE oversampling. This process creates new instances of the under-represented class instead of using copies of the original (which can cause overfitting). SMOTE oversampling is applied on the 'training' data only."
      ]
    },
    {
      "cell_type": "code",
      "metadata": {
        "id": "9wZdHhGXylrx"
      },
      "source": [
        "#Implementing Oversampling for Handling Imbalanced \n",
        "smk = SMOTETomek(random_state=42)\n",
        "x_res,y_res=smk.fit_sample(x_train_scaled,y_treinamento)"
      ],
      "execution_count": null,
      "outputs": []
    },
    {
      "cell_type": "code",
      "metadata": {
        "id": "1yrW0E4OzA5H",
        "colab": {
          "base_uri": "https://localhost:8080/"
        },
        "outputId": "42172270-fba2-4d54-cf6d-077df33bbd0f"
      },
      "source": [
        "x_res.shape,y_res.shape"
      ],
      "execution_count": 23,
      "outputs": [
        {
          "output_type": "execute_result",
          "data": {
            "text/plain": [
              "((462, 9), (462,))"
            ]
          },
          "metadata": {},
          "execution_count": 23
        }
      ]
    },
    {
      "cell_type": "code",
      "metadata": {
        "id": "uo0NCQGPzBrd",
        "colab": {
          "base_uri": "https://localhost:8080/"
        },
        "outputId": "8df9cc97-0688-4dbf-f2cd-33b6ddf13731"
      },
      "source": [
        "from collections import Counter\n",
        "#print('Original dataset shape {}'.format(Counter(y)))\n",
        "print('Resampled dataset shape {}'.format(Counter(y_res)))"
      ],
      "execution_count": 24,
      "outputs": [
        {
          "output_type": "stream",
          "name": "stdout",
          "text": [
            "Resampled dataset shape Counter({1: 231, 0: 231})\n"
          ]
        }
      ]
    },
    {
      "cell_type": "markdown",
      "metadata": {
        "id": "4FGlL15jFBdv"
      },
      "source": [
        "\n",
        "\n",
        "---\n",
        "\n",
        "# **Creating the model and evaluation**\n",
        "The machine learning model chosen is the Naive Bayes classifier because of its ability to analyse each attribute independently."
      ]
    },
    {
      "cell_type": "code",
      "metadata": {
        "id": "KseW1Zzlzy5M",
        "colab": {
          "base_uri": "https://localhost:8080/"
        },
        "outputId": "cb002b41-b774-47f9-ac35-999fd3fce407"
      },
      "source": [
        "#Predicting\n",
        "modelo = GaussianNB()\n",
        "modelo.fit(x_res, y_res)\n",
        "#modelo.fit(x_treinamento, y_treinamento)\n",
        "previsoes = modelo.predict(x_test_scaled)\n",
        "previsoes"
      ],
      "execution_count": 25,
      "outputs": [
        {
          "output_type": "execute_result",
          "data": {
            "text/plain": [
              "array([0, 1, 1, 1, 1, 1, 0, 1, 1, 0, 0, 1, 1, 1, 1, 0, 1, 1, 1, 1, 1, 1,\n",
              "       1, 1, 0, 1, 0, 1, 0, 1, 1, 0, 1, 1, 0, 0, 1, 0, 1, 1, 1, 1, 1, 1,\n",
              "       1, 1, 1, 1, 0, 1, 1, 1, 0, 1, 1, 1, 1, 1, 1, 0, 1, 0, 1, 1, 1, 1,\n",
              "       0, 1, 1, 1, 0, 1, 0, 1, 1, 1, 1, 1, 1, 1, 1, 1, 1, 1, 1, 1, 1, 1,\n",
              "       1, 0, 1, 1, 1, 0, 1, 1, 1, 1, 0, 1, 1, 0, 1, 1, 1, 0, 1, 1, 1, 0,\n",
              "       1, 1, 1, 1, 1, 1, 1])"
            ]
          },
          "metadata": {},
          "execution_count": 25
        }
      ]
    },
    {
      "cell_type": "code",
      "metadata": {
        "id": "yRnJ-pBrz56H",
        "colab": {
          "base_uri": "https://localhost:8080/",
          "height": 290
        },
        "outputId": "fb742c0f-2a36-4e57-e50b-02b5cb31b999"
      },
      "source": [
        "#Ploting the confusion Matrix\n",
        "confusao = ConfusionMatrix(modelo)\n",
        "confusao.fit(x_res, y_res)\n",
        "#confusao.fit(x_treinamento, y_treinamento)\n",
        "confusao.score(x_test_scaled, y_teste)\n",
        "confusao.poof()"
      ],
      "execution_count": 26,
      "outputs": [
        {
          "output_type": "display_data",
          "data": {
            "image/png": "[encoded data removed]",
            "text/plain": [
              "<Figure size 432x288 with 1 Axes>"
            ]
          },
          "metadata": {
            "needs_background": "light"
          }
        }
      ]
    },
    {
      "cell_type": "code",
      "metadata": {
        "id": "okQDTtevz-QL",
        "colab": {
          "base_uri": "https://localhost:8080/"
        },
        "outputId": "a3181b36-80b9-470b-8813-841b2a95aa13"
      },
      "source": [
        "#Accuracy score\n",
        "accuracy_score(y_teste, previsoes)"
      ],
      "execution_count": 27,
      "outputs": [
        {
          "output_type": "execute_result",
          "data": {
            "text/plain": [
              "0.9145299145299145"
            ]
          },
          "metadata": {},
          "execution_count": 27
        }
      ]
    },
    {
      "cell_type": "markdown",
      "metadata": {
        "id": "JReZsXeXFKJO"
      },
      "source": [
        "Accuracy is 91%. The confusion matrix shows that the model correctly classified both 'diabetes' and 'no diabetes' classes. "
      ]
    }
  ]
}